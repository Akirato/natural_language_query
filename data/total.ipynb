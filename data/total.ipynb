{
 "cells": [
  {
   "cell_type": "code",
   "execution_count": 31,
   "metadata": {
    "collapsed": true,
    "deletable": true,
    "editable": true
   },
   "outputs": [],
   "source": [
    "import rdflib"
   ]
  },
  {
   "cell_type": "code",
   "execution_count": 32,
   "metadata": {
    "collapsed": false,
    "deletable": true,
    "editable": true
   },
   "outputs": [],
   "source": [
    "g = rdflib.Graph()\n",
    "g.load(\"./newtotal.ttl\",format=\"turtle\")"
   ]
  },
  {
   "cell_type": "code",
   "execution_count": 33,
   "metadata": {
    "collapsed": false,
    "scrolled": true
   },
   "outputs": [
    {
     "name": "stdout",
     "output_type": "stream",
     "text": [
      "Sandip\n",
      "Vinay\n",
      "prameela kavya\n",
      "Athresh\n",
      "Balamurugan\n",
      "Ravi\n",
      "Shreyash\n",
      "Hemant\n",
      "Dhruv\n",
      "Diptam\n",
      "amit\n",
      "Dhawnit\n",
      "Nurendra\n",
      "Madhur\n",
      "Kavya\n",
      "Praveen\n",
      "Sayantan\n",
      "Sai\n",
      "Manoj\n",
      "Shruti\n",
      "Litton\n",
      "Snehal\n",
      "Jahnavi\n",
      "Neethu\n",
      "Pritam\n",
      "Abrar\n",
      "Swarnadeep\n",
      "Naveen\n",
      "Damodar\n",
      "Sunny\n",
      "M\n",
      "Saatwik\n",
      "Sriharsh\n",
      "Abhishek\n",
      "Guruprasad\n",
      "Sagar\n",
      "VINAY\n",
      "Anupam\n",
      "Ganesh\n",
      "aneel\n",
      "Vatsal\n",
      "shashank\n",
      "Saurabh\n",
      "ramamurthi\n",
      "Anil Kumar\n",
      "Abhinav\n",
      "vivek\n",
      "krishna\n",
      "Adithya\n",
      "Gandhi\n",
      "Ramkrishna\n",
      "Kanthi Rekha\n",
      "Yash\n",
      "satyam\n",
      "Mohammad Ishan\n",
      "Meghana\n",
      "Divyani\n",
      "Akshat\n",
      "Ayush\n",
      "Aditi\n",
      "Indraneil\n",
      "Sejal\n",
      "Ramachandra Sharma\n",
      "Akhil\n",
      "Battu\n",
      "Sneha\n",
      "Anirudh\n",
      "Anil Kumar\n",
      "rajas\n",
      "Gaurav\n",
      "Nagaraj\n",
      "Ayush\n",
      "SIDDHARTHA\n",
      "Shantanu\n",
      "Poojitha\n",
      "sireesha naidu\n",
      "Rini\n",
      "Saumitra\n",
      "Mohsin\n",
      "abdulla\n",
      "Vinisha\n",
      "vishnu vardhan\n",
      "Ayush\n",
      "Murali Krishna\n",
      "Vivek\n",
      "CHINMAY\n",
      "Aakar\n",
      "Vivek\n",
      "Pulkit\n",
      "Srikanth\n",
      "Aaditya\n",
      "Shalin\n",
      "shivam\n",
      "Rajat\n",
      "Saniya\n",
      "Sonam\n",
      "Shraddhan\n",
      "Rajesh\n",
      "Pravallika\n",
      "Amitha\n",
      "Yash\n",
      "riddhi\n",
      "Satrajit\n",
      "Jalpreet Singh\n",
      "Prabhakar\n",
      "Ankur\n",
      "rachit\n",
      "Arijit\n",
      "Allen\n",
      "Spurthi\n",
      "Vamsee\n",
      "Abhishek\n",
      "AKSHAY\n",
      "Vivek\n",
      "vinayak\n",
      "S S S Kumar\n",
      "NIKITA\n",
      "Sayan\n",
      "Muzammil Ahmad\n",
      "hemang\n",
      "Yojana\n",
      "Kishori\n",
      "Siddharth\n",
      "Kaveri\n",
      "Ayushi\n",
      "Utsav\n",
      "Vishal\n",
      "Raghuram\n",
      "uttam\n",
      "Nisarg\n",
      "Aditya\n",
      "Shubham\n",
      "Palash\n",
      "Pranav\n",
      "Rohit\n",
      "Shivani\n",
      "Krishna Madhavi\n",
      "vamshi krishna\n",
      "Dinesh\n",
      "Ran Vijay\n",
      "Aishwarya\n",
      "Shikha\n",
      "Sachin\n",
      "Ranjana\n",
      "Akhila\n",
      "Archit\n",
      "Sowmith\n",
      "Deeksha Singh\n",
      "Manasa\n",
      "Ashutosh\n",
      "Rajat\n",
      "Pooja\n",
      "Sunil\n",
      "Nishu\n",
      "ASHWIN\n",
      "Hillol\n",
      "Viplav\n",
      "kanishtha\n",
      "Yash\n",
      "Anandita\n",
      "Sai Sahith\n",
      "venkatamani\n",
      "Jaipal Singh\n",
      "Jayant Kumar\n",
      "Rohit\n",
      "Suryansh\n",
      "Varun\n",
      "Gorang\n",
      "Dishant\n",
      "Ayush\n",
      "Sneh\n",
      "Tanmay\n",
      "Mohammed\n",
      "mansi\n",
      "Amulya\n",
      "Mainak\n",
      "Dhrumil\n",
      "Nikhil\n",
      "kishan\n",
      "Chetan\n",
      "Riya\n",
      "Sahil\n",
      "Anurag\n",
      "Manipal\n",
      "Saad\n",
      "Anvesh\n",
      "Sachin\n",
      "Shailendra Kumar\n",
      "lakshmi\n",
      "Ameya\n",
      "Shreya\n",
      "vikas\n",
      "Bhavana\n",
      "Rupali\n",
      "chaitanya sai\n",
      "Asif\n",
      "Anand\n",
      "Manish\n",
      "hemant\n",
      "Goutam\n",
      "Varun\n",
      "Sharan\n",
      "tannika\n",
      "Palash\n",
      "Madhuri\n",
      "Pinkesh\n",
      "Koushik\n",
      "Sandeepan\n",
      "Rohit\n",
      "Shashank\n",
      "Anveshi\n",
      "Ashish\n",
      "Shriyansh\n",
      "Elizabeth\n",
      "Harsha\n",
      "Piyush\n",
      "Ravikiran\n",
      "Vini\n",
      "Surbhi\n",
      "Meenal\n",
      "Rohan\n",
      "Udbhav\n",
      "Mehtab\n"
     ]
    }
   ],
   "source": [
    "# find all names\n",
    "for row in g.query(\n",
    "            'select ?x where { ?s a foaf:Student . ?s foaf:givenName ?x}'\n",
    "            ):\n",
    "        print(row.x)"
   ]
  },
  {
   "cell_type": "code",
   "execution_count": 34,
   "metadata": {
    "collapsed": false
   },
   "outputs": [
    {
     "name": "stdout",
     "output_type": "stream",
     "text": [
      "IIIT Hyderabad\n",
      "IIITH\n"
     ]
    }
   ],
   "source": [
    "# Tell me all Institutes\n",
    "for row in g.query(\n",
    "            'select ?x where { ?s foo:institute ?x . \\\n",
    "                }'):\n",
    "        print(row.x)"
   ]
  },
  {
   "cell_type": "code",
   "execution_count": 35,
   "metadata": {
    "collapsed": false
   },
   "outputs": [
    {
     "name": "stdout",
     "output_type": "stream",
     "text": [
      "Natural Language Applications\n",
      "Operating Systems PG\n",
      "Topics In Information Retrieval\n",
      "Natural Language Processing\n"
     ]
    }
   ],
   "source": [
    "#CONDITIONAL\n",
    "# Find me all the courses\n",
    "\n",
    "for row in g.query(\n",
    "            'select ?x where { ?s a foaf:Course . \\\n",
    "            ?s foo:courseName ?x}'\n",
    "            ):\n",
    "        print(row.x)"
   ]
  },
  {
   "cell_type": "code",
   "execution_count": 36,
   "metadata": {
    "collapsed": false
   },
   "outputs": [
    {
     "name": "stdout",
     "output_type": "stream",
     "text": [
      "Manish Shrivastava\n"
     ]
    }
   ],
   "source": [
    "#CONDITIONAL\n",
    "# Who is the faculty of Natural Language Applications\n",
    "\n",
    "for row in g.query(\n",
    "            'select ?x ?y where { ?c foo:courseName \"Natural Language Applications\". \\\n",
    "            ?c foo:faculty ?f . \\\n",
    "            ?f foaf:givenName ?x . \\\n",
    "            ?f foaf:familyName ?y .}'\n",
    "            ):\n",
    "        print(row.x + \" \" + row.y)"
   ]
  },
  {
   "cell_type": "code",
   "execution_count": 37,
   "metadata": {
    "collapsed": false
   },
   "outputs": [
    {
     "name": "stdout",
     "output_type": "stream",
     "text": [
      "Manish Shrivastava\n"
     ]
    }
   ],
   "source": [
    "\n",
    "for row in g.query(\n",
    "            'select ?x ?y where { ?s foo:courseName \"Natural Language Applications\". \\\n",
    "            ?s foo:faculty ?f . \\\n",
    "            ?f foaf:givenName ?x . \\\n",
    "            ?f foaf:familyName ?y .}'\n",
    "            ):\n",
    "        print(row.x + \" \" + row.y)"
   ]
  },
  {
   "cell_type": "code",
   "execution_count": 38,
   "metadata": {
    "collapsed": false
   },
   "outputs": [
    {
     "name": "stdout",
     "output_type": "stream",
     "text": [
      "84\n",
      "66\n",
      "77\n",
      "85\n",
      "63\n",
      "67\n",
      "62\n",
      "93\n",
      "76\n",
      "84\n",
      "69\n",
      "68\n",
      "81\n",
      "62\n",
      "61\n",
      "75\n",
      "92\n",
      "88\n",
      "68\n",
      "84\n",
      "80\n",
      "76\n",
      "64\n",
      "91\n",
      "87\n",
      "69\n",
      "61\n",
      "71\n",
      "67\n",
      "76\n",
      "62\n"
     ]
    }
   ],
   "source": [
    "#CONDITIONAL\n",
    "# Marks of topics in IR\n",
    "\n",
    "for row in g.query(\n",
    "            'select ?x where { ?s foo:courseName \"Topics In Information Retrieval\" . \\\n",
    "            ?k a foaf:Registration . \\\n",
    "            ?k foo:courseid ?s . \\\n",
    "            ?k foo:marks ?x .}'\n",
    "               ):\n",
    "        print(row.x)"
   ]
  },
  {
   "cell_type": "code",
   "execution_count": 39,
   "metadata": {
    "collapsed": false
   },
   "outputs": [
    {
     "name": "stdout",
     "output_type": "stream",
     "text": [
      "87\n"
     ]
    }
   ],
   "source": [
    "#CONDITIONAL\n",
    "# Marks of Sriharsh in topics in IR\n",
    "\n",
    "for row in g.query(\n",
    "            'select ?x where { ?s foo:courseName \"Topics In Information Retrieval\" . \\\n",
    "            ?k a foaf:Registration . \\\n",
    "            ?k foo:courseid ?s . \\\n",
    "            ?n a foaf:Student . \\\n",
    "            ?n foaf:givenName \"Sriharsh\" . \\\n",
    "            ?k foo:studentid ?n . \\\n",
    "            ?k foo:marks ?x .}'\n",
    "               ):\n",
    "        print(row.x)"
   ]
  },
  {
   "cell_type": "code",
   "execution_count": 40,
   "metadata": {
    "collapsed": false
   },
   "outputs": [
    {
     "name": "stdout",
     "output_type": "stream",
     "text": [
      "87\n"
     ]
    }
   ],
   "source": [
    "#CONDITIONAL\n",
    "# Marks of Anvesh in topics in IR\n",
    "\n",
    "for row in g.query(\n",
    "            'select ?x where {  \\\n",
    "            ?s foo:courseName \"Topics In Information Retrieval\" . \\\n",
    "            ?n foaf:givenName \"Sriharsh\" . \\\n",
    "            ?k a foaf:Registration . \\\n",
    "            ?k foo:courseid ?s . \\\n",
    "            ?k foo:studentid ?n . \\\n",
    "            ?k foo:marks ?x . \\\n",
    "                            }'\n",
    "               ):\n",
    "        print(row.x)"
   ]
  },
  {
   "cell_type": "code",
   "execution_count": 41,
   "metadata": {
    "collapsed": false
   },
   "outputs": [
    {
     "name": "stdout",
     "output_type": "stream",
     "text": [
      "Natural Language Processing\n",
      "Topics In Information Retrieval\n",
      "Natural Language Applications\n"
     ]
    }
   ],
   "source": [
    "#COURSES OF Anirudh\n",
    "for row in g.query(\n",
    "            'select ?x where {  \\\n",
    "            ?s a foaf:Course . \\\n",
    "            ?n foaf:givenName \"Anirudh\" . \\\n",
    "            ?k a foaf:Registration . \\\n",
    "            ?k foo:courseid ?s . \\\n",
    "            ?k foo:studentid ?n . \\\n",
    "            ?s foo:courseName ?x . \\\n",
    "                            }'\n",
    "               ):\n",
    "        print(row.x)"
   ]
  },
  {
   "cell_type": "code",
   "execution_count": 42,
   "metadata": {
    "collapsed": false
   },
   "outputs": [
    {
     "name": "stdout",
     "output_type": "stream",
     "text": [
      "87\n"
     ]
    }
   ],
   "source": [
    "for row in g.query(\n",
    "        'select ?x where { ?a foaf:givenName \"Sriharsh\" . ?b foo:courseName \"Topics In Information Retrieval\" . ?c a foaf:Registration . ?c foo:courseid ?b . ?c foo:studentid ?a . ?c foo:marks ?x .  }'\n",
    "                ):\n",
    "    print(row.x)"
   ]
  },
  {
   "cell_type": "code",
   "execution_count": 11,
   "metadata": {
    "collapsed": false
   },
   "outputs": [
    {
     "name": "stdout",
     "output_type": "stream",
     "text": [
      "Marks of Anirudh in Topics In Information Retrieval is 62.5\n",
      "Marks of Anirudh in Natural Language Applications is 60.8\n"
     ]
    }
   ],
   "source": [
    "     # All Marks of Aniruddh\n",
    "\n",
    "for row in g.query(\n",
    "            'select ?x ?y where { ?s a foaf:Student . \\\n",
    "            ?s foaf:givenName \"Anirudh\" . \\\n",
    "            ?k a foaf:Registration . \\\n",
    "            ?k foo:studentid ?s . \\\n",
    "            ?k foo:marks ?x . \\\n",
    "            ?k foo:courseid ?z . \\\n",
    "            ?z foo:courseName ?y .}'\n",
    "               ):\n",
    "        print(\"Marks of Anirudh in \" + row.y + \" is \" + row.x)"
   ]
  },
  {
   "cell_type": "code",
   "execution_count": 68,
   "metadata": {
    "collapsed": false
   },
   "outputs": [
    {
     "name": "stdout",
     "output_type": "stream",
     "text": [
      "Manish Shrivastava\n"
     ]
    }
   ],
   "source": [
    "#CONDITIONAL\n",
    "# Find me all the Faculties\n",
    "\n",
    "for row in g.query(\n",
    "            'select ?x ?y where { ?s a foaf:Faculty . \\\n",
    "            ?s foaf:givenName ?x  .\\\n",
    "            ?s foaf:familyName ?y }'\n",
    "            ):\n",
    "        print(row.x + \" \" + row.y)"
   ]
  },
  {
   "cell_type": "code",
   "execution_count": 14,
   "metadata": {
    "collapsed": false,
    "deletable": true,
    "editable": true
   },
   "outputs": [
    {
     "name": "stdout",
     "output_type": "stream",
     "text": [
      "Saurabh\n",
      "Ran Vijay\n",
      "Vinay\n",
      "Shreya\n",
      "Abhishek\n",
      "Manipal\n",
      "Rajat\n"
     ]
    }
   ],
   "source": [
    "#CONDITIONAL\n",
    "# Find me all the persons with surname Singh \n",
    "\n",
    "for row in g.query(\n",
    "            'select ?x where { ?s foaf:familyName \"Singh\" . \\\n",
    "            ?s foaf:givenName ?x}'):\n",
    "        print(row.x)"
   ]
  },
  {
   "cell_type": "code",
   "execution_count": 13,
   "metadata": {
    "collapsed": false,
    "scrolled": true
   },
   "outputs": [],
   "source": [
    "##################### FROM HERE ALL QUERIES ARE FROM A DIFFERENT DATASET, ##########\n",
    "################### USE IT FOR REFERNCE OR TO EXPERIMENT MORE FOR OUR DATA ##############"
   ]
  },
  {
   "cell_type": "code",
   "execution_count": 15,
   "metadata": {
    "collapsed": false
   },
   "outputs": [
    {
     "data": {
      "text/plain": [
       "'\\nfor row in g.query(\\n            \\'select ?x ?d  where { ?s mydb:deathAge ?d .             ?s rdfs:label ?x}\\'):\\n        print(row.x + \" died at \"+row.d)\\n    '"
      ]
     },
     "execution_count": 15,
     "metadata": {},
     "output_type": "execute_result"
    }
   ],
   "source": [
    "#CONDITIONAL\n",
    "# Find me all the persons who have a death age\n",
    "\"\"\"\n",
    "for row in g.query(\n",
    "            'select ?x ?d  where { ?s mydb:deathAge ?d . \\\n",
    "            ?s rdfs:label ?x}'):\n",
    "        print(row.x + \" died at \"+row.d)\n",
    "    \"\"\""
   ]
  },
  {
   "cell_type": "code",
   "execution_count": 31,
   "metadata": {
    "collapsed": false,
    "deletable": true,
    "editable": true
   },
   "outputs": [
    {
     "name": "stdout",
     "output_type": "stream",
     "text": [
      "Mirzan Marie\n",
      "Libera Rachel\n",
      "Hector\n",
      "Hector\n",
      "Ralph Harvey\n",
      "Mary Rose\n",
      "Virginia\n",
      "Ugo\n",
      "Morpurgo D. Brutus\n",
      "Oscar\n",
      "Réné\n",
      "Anna Henderson\n",
      "Clarisa Hélène\n",
      "Julia\n",
      "McFarlane Kenedy Wiley\n",
      "Angelino M.\n",
      "Rev'd Dr. S C Ewing\n",
      "Edgar\n",
      "Victor John\n",
      "Mary Evelyn\n",
      "Edwige\n",
      "Rodolph\n"
     ]
    }
   ],
   "source": [
    "# NEGATION:\n",
    "# Find me all the persons except those whose familyName is Mogroby \n",
    "\"\"\"\n",
    "for row in g.query(\n",
    "            'select ?x where { ?s a foaf:Person . \\\n",
    "            ?s rdfs:label ?x . MINUS {?s foaf:familyName \"Mogroby\" .} }'\n",
    "            ):\n",
    "        print(row.x)"
   ]
  },
  {
   "cell_type": "code",
   "execution_count": 44,
   "metadata": {
    "collapsed": false
   },
   "outputs": [
    {
     "name": "stdout",
     "output_type": "stream",
     "text": [
      "Toba Mogroby\n",
      "Libera Rachel\n",
      "Hector\n",
      "Hector\n",
      "Ralph Harvey\n",
      "Mary Rose\n",
      "Virginia\n",
      "Ugo\n",
      "Oscar\n",
      "Réné\n",
      "Anna Henderson\n",
      "Clarisa Hélène\n",
      "Moses Mogroby\n",
      "Julia\n",
      "McFarlane Kenedy Wiley\n",
      "Angelino M.\n",
      "Rev'd Dr. S C Ewing\n",
      "Edgar\n",
      "Victor John\n",
      "Mary Evelyn\n",
      "Mogroby Jacob M\n",
      "Edwige\n",
      "Rodolph\n"
     ]
    }
   ],
   "source": [
    "# NEGATION:\n",
    "# Find me all the persons except those who have a note 'x' \n",
    "\n",
    "for row in g.query(\n",
    "            'select ?x where { ?s a foaf:Person . \\\n",
    "            ?s rdfs:label ?x . MINUS {?s mydb:note \"x\" .} }'\n",
    "            ):\n",
    "        print(row.x)"
   ]
  },
  {
   "cell_type": "code",
   "execution_count": 9,
   "metadata": {
    "collapsed": false
   },
   "outputs": [
    {
     "name": "stdout",
     "output_type": "stream",
     "text": [
      "McFarlane Kenedy Wiley\n",
      "Mary Evelyn\n",
      "McFarlane Kenedy Wiley\n",
      "Victor John\n"
     ]
    }
   ],
   "source": [
    "# NEGATION:\n",
    "# Find me persons(labels) who have any note except \"x\" (not all people have notes, hence list is smaller)\n",
    "\n",
    "for row in g.query(\n",
    "            'select ?x where { ?s mydb:note ?k .  \\\n",
    "            ?s rdfs:label ?x .\\\n",
    "            MINUS {?s mydb:note \"x\" .} }'\n",
    "            ):\n",
    "        print(row.x)\n",
    "        \n",
    "# Did any name repeat? Why? (Think!)"
   ]
  },
  {
   "cell_type": "code",
   "execution_count": 7,
   "metadata": {
    "collapsed": false
   },
   "outputs": [
    {
     "name": "stdout",
     "output_type": "stream",
     "text": [
      "McFarlane Kenedy Wiley\n",
      "McFarlane Kenedy Wiley\n",
      "Victor John\n"
     ]
    }
   ],
   "source": [
    "# NEGATION:\n",
    "# Find me all people who any note except 'x' AND whose name is not \"Mary Evelyn\"\n",
    "\n",
    "for row in g.query(\n",
    "            'select ?x where { ?s mydb:note ?k .  \\\n",
    "            ?s rdfs:label ?x .\\\n",
    "            MINUS {?s mydb:note \"x\" .} . \\\n",
    "            MINUS {?s rdfs:label \"Mary Evelyn\" .} }'\n",
    "            ):\n",
    "        print(row.x)"
   ]
  },
  {
   "cell_type": "code",
   "execution_count": 58,
   "metadata": {
    "collapsed": false
   },
   "outputs": [
    {
     "name": "stdout",
     "output_type": "stream",
     "text": [
      "Moses Mogroby\n",
      "Toba Mogroby\n"
     ]
    }
   ],
   "source": [
    "#CONDITIONAL AND NEGATION\n",
    "# Find me all people who have familyName \"Mogroby\" except the one whose occupation is \"Ombrella Merchant\"\n",
    "\n",
    "for row in g.query(\n",
    "            'select ?x where { ?s foaf:familyName \"Mogroby\" . \\\n",
    "            ?s rdfs:label ?x . \\\n",
    "            MINUS {?s mydb:occupation \"Ombrella Merchant\" .} }'): #notice that this line can't come (one line) earlier because minus subtracts from ?x (the select variable) hence can't delete before declaring\n",
    "        print(row.x)"
   ]
  },
  {
   "cell_type": "code",
   "execution_count": 55,
   "metadata": {
    "collapsed": false
   },
   "outputs": [
    {
     "ename": "SyntaxError",
     "evalue": "EOL while scanning string literal (<ipython-input-55-f8bf3dacfe1a>, line 4)",
     "output_type": "error",
     "traceback": [
      "\u001b[1;36m  File \u001b[1;32m\"<ipython-input-55-f8bf3dacfe1a>\"\u001b[1;36m, line \u001b[1;32m4\u001b[0m\n\u001b[1;33m    'select ?x where { ?s a foaf:Person . \\ s\u001b[0m\n\u001b[1;37m                                             ^\u001b[0m\n\u001b[1;31mSyntaxError\u001b[0m\u001b[1;31m:\u001b[0m EOL while scanning string literal\n"
     ]
    }
   ],
   "source": [
    "#Find me all persons (labels) who have notes\n",
    "\n",
    "for row in g.query(\n",
    "            'select ?x where { ?s a foaf:Person . \\\n",
    "            ?s mydb:note ?z . ?s rdfs:label ?x }'):\n",
    "    print(row.x)"
   ]
  },
  {
   "cell_type": "code",
   "execution_count": 56,
   "metadata": {
    "collapsed": false
   },
   "outputs": [
    {
     "ename": "SyntaxError",
     "evalue": "EOF while scanning triple-quoted string literal (<ipython-input-56-92d7fa10d9d7>, line 6)",
     "output_type": "error",
     "traceback": [
      "\u001b[1;36m  File \u001b[1;32m\"<ipython-input-56-92d7fa10d9d7>\"\u001b[1;36m, line \u001b[1;32m6\u001b[0m\n\u001b[1;33m    print(row.x)\u001b[0m\n\u001b[1;37m                \n^\u001b[0m\n\u001b[1;31mSyntaxError\u001b[0m\u001b[1;31m:\u001b[0m EOF while scanning triple-quoted string literal\n"
     ]
    }
   ],
   "source": [
    "#Find me all persons (labels) who have notes\n",
    "\"\"\"\n",
    "for row in g.query(\n",
    "            'select ?x where { ?s rdfs:label ?x . \\\n",
    "            { ?s mydb:note ?z }}'):\n",
    "    print(row.x)"
   ]
  },
  {
   "cell_type": "code",
   "execution_count": null,
   "metadata": {
    "collapsed": true
   },
   "outputs": [],
   "source": [
    "#Why are the earlier 2 results different (in order especially)? (I actually don't know)"
   ]
  },
  {
   "cell_type": "code",
   "execution_count": 8,
   "metadata": {
    "collapsed": false,
    "deletable": true,
    "editable": true
   },
   "outputs": [
    {
     "name": "stdout",
     "output_type": "stream",
     "text": [
      "----\n",
      "Mary Rose is the Daughter of Mirzan Marie\n",
      "---\n",
      "----\n",
      "Virginia is the Daughter of Morpurgo D. Brutus\n",
      "---\n",
      "----\n",
      "Réné is the Daughter of Morpurgo D. Brutus\n",
      "---\n",
      "----\n",
      "Edwige is the Daughter of Mirzan Marie\n",
      "---\n",
      "----\n",
      "Mary Evelyn is the Daughter of McFarlane Kenedy Wiley\n",
      "---\n"
     ]
    }
   ],
   "source": [
    "#Find all daughter relations\n",
    "for row in g.query(\n",
    "            'select ?x ?y where { ?s a foaf:Person . \\\n",
    "            ?s mydb:daughterOf ?p .\\\n",
    "            ?s rdfs:label ?x . \\\n",
    "            ?p rdfs:label ?y }'\n",
    "            ):\n",
    "        print(\"----\")\n",
    "        print(row.x+\" is the Daughter of \"+row.y)\n",
    "        \n",
    "        print(\"---\")\n",
    "        "
   ]
  },
  {
   "cell_type": "code",
   "execution_count": 65,
   "metadata": {
    "collapsed": false
   },
   "outputs": [
    {
     "name": "stdout",
     "output_type": "stream",
     "text": [
      "Rodolph\n",
      "Ugo\n",
      "Hector\n",
      "Hector\n",
      "Angelino M.\n",
      "Oscar\n",
      "Edgar\n"
     ]
    }
   ],
   "source": [
    "#Find all sons of \"Morpurgo D. Brutus\" (label)\n",
    "\n",
    "for row in g.query(\n",
    "            'select ?x where { ?p rdfs:label \"Morpurgo D. Brutus\" . \\\n",
    "            ?s mydb:sonOf ?p . \\\n",
    "            ?s rdfs:label ?x . \\\n",
    "            }'\n",
    "            ):\n",
    "        print(\"Sons are \" + row.x)"
   ]
  },
  {
   "cell_type": "code",
   "execution_count": 67,
   "metadata": {
    "collapsed": false
   },
   "outputs": [
    {
     "name": "stdout",
     "output_type": "stream",
     "text": [
      "Anna Henderson's husband is McFarlane Kenedy Wiley\n",
      "Clarisa Hélène's husband is Morpurgo D. Brutus\n",
      "Toba Mogroby's husband is Mogroby Jacob M\n"
     ]
    }
   ],
   "source": [
    "#Find all Wives and their Husbands\n",
    "\n",
    "for row in g.query(\n",
    "        'select ?w ?h where { ?s mydb:wifeOf ?t . \\\n",
    "        ?s rdfs:label ?w . \\\n",
    "        ?t rdfs:label ?h . \\\n",
    "        }'\n",
    "        ):\n",
    "    print(row.w + \"'s husband is \" + row.h)"
   ]
  },
  {
   "cell_type": "code",
   "execution_count": 70,
   "metadata": {
    "collapsed": false,
    "deletable": true,
    "editable": true
   },
   "outputs": [
    {
     "name": "stdout",
     "output_type": "stream",
     "text": [
      "----\n",
      "virginia is the Sister of Réné\n",
      "---\n"
     ]
    }
   ],
   "source": [
    "# Who is the sister of Virginia (Does Virginia have a sister? Even though she Does not have a sisterOf relation?)\n",
    "for row in g.query(\n",
    "            'select ?x where { ?p a foaf:Person . \\\n",
    "            ?s rdfs:label \"Virginia\" ; mydb:daughterOf ?p .\\\n",
    "            ?k mydb:daughterOf ?p ; rdfs:label ?x .\\\n",
    "            MINUS {?k rdfs:label \"Virginia\" . }\\\n",
    "            }'\n",
    "            ):\n",
    "        print(\"----\")\n",
    "        print(\"virginia is the Sister of \"+row.x)\n",
    "        # We go to Virginia's father, then look for his daughters and then delete Virginia herself from that list\n",
    "        print(\"---\")"
   ]
  },
  {
   "cell_type": "code",
   "execution_count": 72,
   "metadata": {
    "collapsed": true
   },
   "outputs": [],
   "source": [
    "#Think of more cool examples, try for the following:\n",
    " "
   ]
  },
  {
   "cell_type": "code",
   "execution_count": 71,
   "metadata": {
    "collapsed": true
   },
   "outputs": [],
   "source": [
    "#Find all sons who are still alive.\n",
    "#Who is the daughter of \"Mirzan Marie\" whose occupation is \"ex US Consular Agent\"."
   ]
  },
  {
   "cell_type": "code",
   "execution_count": null,
   "metadata": {
    "collapsed": true
   },
   "outputs": [],
   "source": []
  }
 ],
 "metadata": {
  "anaconda-cloud": {},
  "kernelspec": {
   "display_name": "Python [Root]",
   "language": "python",
   "name": "Python [Root]"
  },
  "language_info": {
   "codemirror_mode": {
    "name": "ipython",
    "version": 3
   },
   "file_extension": ".py",
   "mimetype": "text/x-python",
   "name": "python",
   "nbconvert_exporter": "python",
   "pygments_lexer": "ipython3",
   "version": "3.5.1"
  }
 },
 "nbformat": 4,
 "nbformat_minor": 2
}
